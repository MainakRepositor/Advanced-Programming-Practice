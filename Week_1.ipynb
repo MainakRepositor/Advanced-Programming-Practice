{
  "nbformat": 4,
  "nbformat_minor": 0,
  "metadata": {
    "colab": {
      "name": "Week 1.ipynb",
      "provenance": [],
      "toc_visible": true,
      "authorship_tag": "ABX9TyOLonujESFEbm0FqE8UQjz0",
      "include_colab_link": true
    },
    "kernelspec": {
      "name": "python3",
      "display_name": "Python 3"
    }
  },
  "cells": [
    {
      "cell_type": "markdown",
      "metadata": {
        "id": "view-in-github",
        "colab_type": "text"
      },
      "source": [
        "<a href=\"https://colab.research.google.com/github/MainakRepositor/Advanced-Programming-Practice/blob/master/Week_1.ipynb\" target=\"_parent\"><img src=\"https://colab.research.google.com/assets/colab-badge.svg\" alt=\"Open In Colab\"/></a>"
      ]
    },
    {
      "cell_type": "markdown",
      "metadata": {
        "id": "mA6Gv4aNQymh"
      },
      "source": [
        "# Week 1 Assignments"
      ]
    },
    {
      "cell_type": "markdown",
      "metadata": {
        "id": "TMcW3mmNabUw"
      },
      "source": [
        "# Question 1"
      ]
    },
    {
      "cell_type": "code",
      "metadata": {
        "colab": {
          "base_uri": "https://localhost:8080/"
        },
        "id": "Eem-lGYeQVbD",
        "outputId": "3d31b47c-147c-4633-cebc-72c349fcc19f"
      },
      "source": [
        "# Q1. Python program to accept n inputs about Customer Id, Customer Name, Billing Month \r\n",
        "# and no. of units consumed by a customer and generate a report of all of them\r\n",
        "n = int(input(\"Enter number of customers \"))     \r\n",
        "\r\n",
        "a = list(map(int,input(\"\\nEnter all the ids with a space: \").strip().split()))[:n]\r\n",
        "\r\n",
        "b = list(map(str,input(\"Enter all the names with a space: \").strip().split()))[:n]\r\n",
        "\r\n",
        "c = list(map(str,input(\"Enter all the months with a space: \").strip().split()))[:n]\r\n",
        "\r\n",
        "d = list(map(int,input(\"Enter all the units with a space: \").strip().split()))[:n]\r\n",
        "print(\"\\n Generating report......100%\")\r\n",
        "print(\"\\n Report generated\\n\")\r\n",
        "print(\"id     Name      Month     Units     Bill amt\")\r\n",
        "min_bill = 100\r\n",
        "for i in range(n):\r\n",
        "    if(d[i]<=200):\r\n",
        "        payAmount=d[i]*1.20 + min_bill\r\n",
        "        \r\n",
        "    elif(d[i]<=400):\r\n",
        "        payAmount=(200*1.20)+(d[i]-200)*1.50 + min_bill\r\n",
        "        \r\n",
        "    elif(d[i]<=600):\r\n",
        "        payAmount=(200*1.20)+(400*1.50)+(d[i]-400)*1.80\r\n",
        "        payAmount = payAmount * 1.15 + min_bill\r\n",
        "    \r\n",
        "    else:\r\n",
        "        payAmount=(200*1.20)+(400*1.50)+(600*1.80)+(d[i]-600)*2.00\r\n",
        "        payAmount = payAmount * 1.15 + min_bill\r\n",
        "    \r\n",
        "    print(a[i],\"   \",b[i],\"  \",c[i],\"  \",d[i],\"  \",payAmount)"
      ],
      "execution_count": 1,
      "outputs": [
        {
          "output_type": "stream",
          "text": [
            "Enter number of customers 1\n",
            "\n",
            "Enter all the ids with a space: 11\n",
            "Enter all the names with a space: Mainak\n",
            "Enter all the months with a space: Jan\n",
            "Enter all the units with a space: 100\n",
            "\n",
            " Generating report......100%\n",
            "\n",
            " Report generated\n",
            "\n",
            "id     Name      Month     Units     Bill amt\n",
            "11     Mainak    Jan    100    220.0\n"
          ],
          "name": "stdout"
        }
      ]
    },
    {
      "cell_type": "markdown",
      "metadata": {
        "id": "Jl1mSeMsahhP"
      },
      "source": [
        "# Question 2\r\n"
      ]
    },
    {
      "cell_type": "code",
      "metadata": {
        "colab": {
          "base_uri": "https://localhost:8080/"
        },
        "id": "3cW3PXu3RMKW",
        "outputId": "a0df9f6e-fb2b-4132-d4d8-3e142c6ed82e"
      },
      "source": [
        "# Q2. Python program to accept n inputs about Bill id, Customer Id, Customer Name, Billing Date \r\n",
        "# and no. of units and Amount paid consumed by a customer and generate a report of all of them\r\n",
        "n = int(input(\"Enter number of customers \"))\r\n",
        "\r\n",
        "f = list(map(str,input(\"Enter all the bill ids with a space: \").strip().split()))[:n]\r\n",
        "\r\n",
        "a = list(map(int,input(\"Enter all the customer ids with a space: \").strip().split()))[:n]\r\n",
        "\r\n",
        "b = list(map(str,input(\"Enter all the names with a space: \").strip().split()))[:n]\r\n",
        "\r\n",
        "c = list(map(str,input(\"Enter all the date of payment with a space: \").strip().split()))[:n]\r\n",
        "\r\n",
        "d = list(map(int,input(\"Enter all the units with a space: \").strip().split()))[:n]\r\n",
        "\r\n",
        "e = list(map(float,input(\"Enter all the amounts paid with a space: \").strip().split()))[:n]\r\n",
        "\r\n",
        "print(\"\\nGenerating Bill Reports.............100%\")\r\n",
        "print(\"\\n Reports generated\\n\")\r\n",
        "\r\n",
        "print(\"Cust_id    Bill_id     Name      LDoP  Units   Bill amt\")\r\n",
        "for i in range(n):\r\n",
        "    if(e[i]>0.0):\r\n",
        "        print(f[i],\"   \",a[i],\"   \",b[i],\"  \",c[i],\"  \",d[i],\"  \",e[i])\r\n"
      ],
      "execution_count": 2,
      "outputs": [
        {
          "output_type": "stream",
          "text": [
            "Enter number of customers 1\n",
            "Enter all the bill ids with a space: Cus01\n",
            "Enter all the customer ids with a space: 1911\n",
            "Enter all the names with a space: Mainak\n",
            "Enter all the date of payment with a space: 10/12/2020\n",
            "Enter all the units with a space: 100\n",
            "Enter all the amounts paid with a space: 250\n",
            "\n",
            "Generating Bill Reports.............100%\n",
            "\n",
            " Reports generated\n",
            "\n",
            "Cust_id    Bill_id     Name      LDoP  Units   Bill amt\n",
            "Cus01     1911     Mainak    10/12/2020    100    250.0\n"
          ],
          "name": "stdout"
        }
      ]
    },
    {
      "cell_type": "markdown",
      "metadata": {
        "id": "CWIF5Ox_agUI"
      },
      "source": [
        "# Question 3"
      ]
    },
    {
      "cell_type": "code",
      "metadata": {
        "colab": {
          "base_uri": "https://localhost:8080/"
        },
        "id": "f6EX7-NHRXbz",
        "outputId": "bc4c023d-8678-45a2-9ea2-05d9c5fc5c07"
      },
      "source": [
        "#Q3. Prediction of Electric Bill based on previous month units\r\n",
        "\r\n",
        "n = int(input(\"Enter number of customers \"))\r\n",
        "\r\n",
        "f = list(map(str,input(\"Enter all the bill ids with a space: \").strip().split()))[:n]\r\n",
        "\r\n",
        "a = list(map(str,input(\"Enter all the names with a space: \").strip().split()))[:n]\r\n",
        "\r\n",
        "b = list(map(int,input(\"Enter all the month 1 units with a space: \").strip().split()))[:n]\r\n",
        "\r\n",
        "c = list(map(int,input(\"Enter all the month 2 units with a space: \").strip().split()))[:n]\r\n",
        "\r\n",
        "d = list(map(int,input(\"Enter all the month 3 units with a space: \").strip().split()))[:n]\r\n",
        "\r\n",
        "print(\"\\nPredicting Result..........100%\")\r\n",
        "print(\"Generating Prediction Output\\n\")\r\n",
        "\r\n",
        "print(\"Cus_id    Name     Month 1   Month 2   Month 3   Estimated Bill\")\r\n",
        "t = 0.0\r\n",
        "for i in range(n):\r\n",
        "    t = (c[i]+d[i]+b[i])/3\r\n",
        "    print(f[i],\"    \",a[i],\"     \",b[i],\"     \",c[i],\"     \",d[i],\"     \",t)\r\n"
      ],
      "execution_count": 3,
      "outputs": [
        {
          "output_type": "stream",
          "text": [
            "Enter number of customers 1\n",
            "Enter all the bill ids with a space: B1\n",
            "Enter all the names with a space: Mainak\n",
            "Enter all the month 1 units with a space: 400\n",
            "Enter all the month 2 units with a space: 100\n",
            "Enter all the month 3 units with a space: 200\n",
            "\n",
            "Predicting Result..........100%\n",
            "Generating Prediction Output\n",
            "\n",
            "Cus_id    Name     Month 1   Month 2   Month 3   Estimated Bill\n",
            "B1      Mainak       400       100       200       233.33333333333334\n"
          ],
          "name": "stdout"
        }
      ]
    },
    {
      "cell_type": "markdown",
      "metadata": {
        "id": "tTiDf36camW_"
      },
      "source": [
        "# Question 4"
      ]
    },
    {
      "cell_type": "code",
      "metadata": {
        "colab": {
          "base_uri": "https://localhost:8080/"
        },
        "id": "92qkh-ZoRnrG",
        "outputId": "9857d5e3-c0d0-4985-8737-8ed4e8f0bb62"
      },
      "source": [
        "#Q4. Print if a string is an anagram\r\n",
        "s1=input(\"Enter first string:\")\r\n",
        "s2=input(\"Enter second string:\")\r\n",
        "if(sorted(s1)==sorted(s2)):\r\n",
        "      print(\"The strings are anagrams.\")\r\n",
        "else:\r\n",
        "      print(\"The strings aren't anagrams.\")"
      ],
      "execution_count": 4,
      "outputs": [
        {
          "output_type": "stream",
          "text": [
            "Enter first string:wolf\n",
            "Enter second string:flow\n",
            "The strings are anagrams.\n"
          ],
          "name": "stdout"
        }
      ]
    },
    {
      "cell_type": "markdown",
      "metadata": {
        "id": "5oYabnnHaoQ6"
      },
      "source": [
        "# Question 5"
      ]
    },
    {
      "cell_type": "code",
      "metadata": {
        "colab": {
          "base_uri": "https://localhost:8080/"
        },
        "id": "ZsSXpNq1Tfub",
        "outputId": "8a24baa0-2034-42b0-da14-70c4f6b54c90"
      },
      "source": [
        "#Q5. Prediction of Electric Bill based on previous month units\r\n",
        "\r\n",
        "n = int(input(\"Enter number of customers \"))\r\n",
        "\r\n",
        "f = list(map(str,input(\"Enter all the bill ids with a space: \").strip().split()))[:n]\r\n",
        "\r\n",
        "a = list(map(str,input(\"Enter all the names with a space: \").strip().split()))[:n]\r\n",
        "\r\n",
        "b = list(map(int,input(\"Enter all the month 1 units with a space: \").strip().split()))[:n]\r\n",
        "\r\n",
        "c = list(map(int,input(\"Enter all the month 2 units with a space: \").strip().split()))[:n]\r\n",
        "\r\n",
        "d = list(map(int,input(\"Enter all the month 3 units with a space: \").strip().split()))[:n]\r\n",
        "\r\n",
        "print(\"\\nPredicting Result..........100%\")\r\n",
        "print(\"Generating Prediction Output\\n\")\r\n",
        "\r\n",
        "print(\"Cus_id   Name     Month 1   Month 2   Month 3     Bill Type\")\r\n",
        "t = 0.0\r\n",
        "for i in range(n):\r\n",
        "    t = (c[i]+d[i]+b[i])/3\r\n",
        "    if(t>d[i]):\r\n",
        "        print(f[i],\"    \",a[i],\"     \",b[i],\"     \",c[i],\"     \",d[i],\"     \",\"Commercial\")\r\n",
        "    else:\r\n",
        "        print(f[i],\"    \",a[i],\"     \",b[i],\"     \",c[i],\"     \",d[i],\"     \",\"Domestic\")\r\n",
        "\r\n"
      ],
      "execution_count": 6,
      "outputs": [
        {
          "output_type": "stream",
          "text": [
            "Enter number of customers 5\n",
            "Enter all the bill ids with a space: B1 B2 B3 B4 B5\n",
            "Enter all the names with a space: Mainak Ranveer Hrithik Shah Rukh Amir\n",
            "Enter all the month 1 units with a space: 100 200 500 200 360\n",
            "Enter all the month 2 units with a space: 100 400 800 500 720\n",
            "Enter all the month 3 units with a space: 100 800 1700 100 800\n",
            "\n",
            "Predicting Result..........100%\n",
            "Generating Prediction Output\n",
            "\n",
            "Cus_id   Name     Month 1   Month 2   Month 3     Bill Type\n",
            "B1      Mainak       100       100       100       Domestic\n",
            "B2      Ranveer       200       400       800       Domestic\n",
            "B3      Hrithik       500       800       1700       Domestic\n",
            "B4      Shah       200       500       100       Commercial\n",
            "B5      Rukh       360       720       800       Domestic\n"
          ],
          "name": "stdout"
        }
      ]
    },
    {
      "cell_type": "code",
      "metadata": {
        "id": "zsw7-PE8TsBL"
      },
      "source": [
        ""
      ],
      "execution_count": null,
      "outputs": []
    }
  ]
}